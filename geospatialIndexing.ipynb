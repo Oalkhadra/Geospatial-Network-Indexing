{
 "cells": [
  {
   "cell_type": "markdown",
   "metadata": {
    "id": "Au6G81AszI2R"
   },
   "source": [
    "The objective of this assignment is to design and implement an in-memory spatial network index structure that is used in Spatial Network Databases (SNDB), following the framework presented in this paper: [Link to paper.](https://www.vldb.org/conf/2003/papers/S24P02.pdf)\n",
    "To test and evaluate the performance of the index structure, implementations of the spatial nearest neighbor queries following the Incremental Euclidean Restriction (IER) and Incremental Network Expansion (INE) methods are used."
   ]
  },
  {
   "cell_type": "code",
   "source": [
    "from random import sample\n",
    "\n",
    "from networkx import edge_load_centrality\n",
    "from osmnx.distance import euclidean\n",
    "### Install dependencies\n",
    "\n",
    "!pip install geopandas\n",
    "!pip install osmnx\n",
    "!pip install rtree"
   ],
   "metadata": {
    "id": "sVRY91zKXboj",
    "colab": {
     "base_uri": "https://localhost:8080/"
    },
    "outputId": "cd91ecf2-7e07-478b-b1e0-7c39a6ac679b",
    "ExecuteTime": {
     "end_time": "2024-10-31T03:06:47.612428Z",
     "start_time": "2024-10-31T03:06:38.544055Z"
    }
   },
   "outputs": [
    {
     "name": "stdout",
     "output_type": "stream",
     "text": [
      "Requirement already satisfied: geopandas in ./.venv/lib/python3.12/site-packages (0.14.4)\r\n",
      "Requirement already satisfied: fiona>=1.8.21 in ./.venv/lib/python3.12/site-packages (from geopandas) (1.10.1)\r\n",
      "Requirement already satisfied: numpy>=1.22 in ./.venv/lib/python3.12/site-packages (from geopandas) (1.26.4)\r\n",
      "Requirement already satisfied: packaging in ./.venv/lib/python3.12/site-packages (from geopandas) (24.1)\r\n",
      "Requirement already satisfied: pandas>=1.4.0 in ./.venv/lib/python3.12/site-packages (from geopandas) (2.2.3)\r\n",
      "Requirement already satisfied: pyproj>=3.3.0 in ./.venv/lib/python3.12/site-packages (from geopandas) (3.7.0)\r\n",
      "Requirement already satisfied: shapely>=1.8.0 in ./.venv/lib/python3.12/site-packages (from geopandas) (2.0.6)\r\n",
      "Requirement already satisfied: attrs>=19.2.0 in ./.venv/lib/python3.12/site-packages (from fiona>=1.8.21->geopandas) (24.2.0)\r\n",
      "Requirement already satisfied: certifi in ./.venv/lib/python3.12/site-packages (from fiona>=1.8.21->geopandas) (2024.8.30)\r\n",
      "Requirement already satisfied: click~=8.0 in ./.venv/lib/python3.12/site-packages (from fiona>=1.8.21->geopandas) (8.1.7)\r\n",
      "Requirement already satisfied: click-plugins>=1.0 in ./.venv/lib/python3.12/site-packages (from fiona>=1.8.21->geopandas) (1.1.1)\r\n",
      "Requirement already satisfied: cligj>=0.5 in ./.venv/lib/python3.12/site-packages (from fiona>=1.8.21->geopandas) (0.7.2)\r\n",
      "Requirement already satisfied: python-dateutil>=2.8.2 in ./.venv/lib/python3.12/site-packages (from pandas>=1.4.0->geopandas) (2.9.0.post0)\r\n",
      "Requirement already satisfied: pytz>=2020.1 in ./.venv/lib/python3.12/site-packages (from pandas>=1.4.0->geopandas) (2024.2)\r\n",
      "Requirement already satisfied: tzdata>=2022.7 in ./.venv/lib/python3.12/site-packages (from pandas>=1.4.0->geopandas) (2024.2)\r\n",
      "Requirement already satisfied: six>=1.5 in ./.venv/lib/python3.12/site-packages (from python-dateutil>=2.8.2->pandas>=1.4.0->geopandas) (1.16.0)\r\n",
      "\r\n",
      "\u001B[1m[\u001B[0m\u001B[34;49mnotice\u001B[0m\u001B[1;39;49m]\u001B[0m\u001B[39;49m A new release of pip is available: \u001B[0m\u001B[31;49m23.2.1\u001B[0m\u001B[39;49m -> \u001B[0m\u001B[32;49m24.3.1\u001B[0m\r\n",
      "\u001B[1m[\u001B[0m\u001B[34;49mnotice\u001B[0m\u001B[1;39;49m]\u001B[0m\u001B[39;49m To update, run: \u001B[0m\u001B[32;49mpip install --upgrade pip\u001B[0m\r\n",
      "Requirement already satisfied: osmnx in ./.venv/lib/python3.12/site-packages (1.9.4)\r\n",
      "Requirement already satisfied: geopandas<0.15,>=0.12 in ./.venv/lib/python3.12/site-packages (from osmnx) (0.14.4)\r\n",
      "Requirement already satisfied: networkx<3.4,>=2.5 in ./.venv/lib/python3.12/site-packages (from osmnx) (3.3)\r\n",
      "Requirement already satisfied: numpy<1.27,>=1.20 in ./.venv/lib/python3.12/site-packages (from osmnx) (1.26.4)\r\n",
      "Requirement already satisfied: pandas<2.3,>=1.1 in ./.venv/lib/python3.12/site-packages (from osmnx) (2.2.3)\r\n",
      "Requirement already satisfied: requests<2.33,>=2.27 in ./.venv/lib/python3.12/site-packages (from osmnx) (2.32.3)\r\n",
      "Requirement already satisfied: shapely<2.1,>=2.0 in ./.venv/lib/python3.12/site-packages (from osmnx) (2.0.6)\r\n",
      "Requirement already satisfied: fiona>=1.8.21 in ./.venv/lib/python3.12/site-packages (from geopandas<0.15,>=0.12->osmnx) (1.10.1)\r\n",
      "Requirement already satisfied: packaging in ./.venv/lib/python3.12/site-packages (from geopandas<0.15,>=0.12->osmnx) (24.1)\r\n",
      "Requirement already satisfied: pyproj>=3.3.0 in ./.venv/lib/python3.12/site-packages (from geopandas<0.15,>=0.12->osmnx) (3.7.0)\r\n",
      "Requirement already satisfied: python-dateutil>=2.8.2 in ./.venv/lib/python3.12/site-packages (from pandas<2.3,>=1.1->osmnx) (2.9.0.post0)\r\n",
      "Requirement already satisfied: pytz>=2020.1 in ./.venv/lib/python3.12/site-packages (from pandas<2.3,>=1.1->osmnx) (2024.2)\r\n",
      "Requirement already satisfied: tzdata>=2022.7 in ./.venv/lib/python3.12/site-packages (from pandas<2.3,>=1.1->osmnx) (2024.2)\r\n",
      "Requirement already satisfied: charset-normalizer<4,>=2 in ./.venv/lib/python3.12/site-packages (from requests<2.33,>=2.27->osmnx) (3.4.0)\r\n",
      "Requirement already satisfied: idna<4,>=2.5 in ./.venv/lib/python3.12/site-packages (from requests<2.33,>=2.27->osmnx) (3.10)\r\n",
      "Requirement already satisfied: urllib3<3,>=1.21.1 in ./.venv/lib/python3.12/site-packages (from requests<2.33,>=2.27->osmnx) (2.2.3)\r\n",
      "Requirement already satisfied: certifi>=2017.4.17 in ./.venv/lib/python3.12/site-packages (from requests<2.33,>=2.27->osmnx) (2024.8.30)\r\n",
      "Requirement already satisfied: attrs>=19.2.0 in ./.venv/lib/python3.12/site-packages (from fiona>=1.8.21->geopandas<0.15,>=0.12->osmnx) (24.2.0)\r\n",
      "Requirement already satisfied: click~=8.0 in ./.venv/lib/python3.12/site-packages (from fiona>=1.8.21->geopandas<0.15,>=0.12->osmnx) (8.1.7)\r\n",
      "Requirement already satisfied: click-plugins>=1.0 in ./.venv/lib/python3.12/site-packages (from fiona>=1.8.21->geopandas<0.15,>=0.12->osmnx) (1.1.1)\r\n",
      "Requirement already satisfied: cligj>=0.5 in ./.venv/lib/python3.12/site-packages (from fiona>=1.8.21->geopandas<0.15,>=0.12->osmnx) (0.7.2)\r\n",
      "Requirement already satisfied: six>=1.5 in ./.venv/lib/python3.12/site-packages (from python-dateutil>=2.8.2->pandas<2.3,>=1.1->osmnx) (1.16.0)\r\n",
      "\r\n",
      "\u001B[1m[\u001B[0m\u001B[34;49mnotice\u001B[0m\u001B[1;39;49m]\u001B[0m\u001B[39;49m A new release of pip is available: \u001B[0m\u001B[31;49m23.2.1\u001B[0m\u001B[39;49m -> \u001B[0m\u001B[32;49m24.3.1\u001B[0m\r\n",
      "\u001B[1m[\u001B[0m\u001B[34;49mnotice\u001B[0m\u001B[1;39;49m]\u001B[0m\u001B[39;49m To update, run: \u001B[0m\u001B[32;49mpip install --upgrade pip\u001B[0m\r\n",
      "Requirement already satisfied: rtree in ./.venv/lib/python3.12/site-packages (1.3.0)\r\n",
      "\r\n",
      "\u001B[1m[\u001B[0m\u001B[34;49mnotice\u001B[0m\u001B[1;39;49m]\u001B[0m\u001B[39;49m A new release of pip is available: \u001B[0m\u001B[31;49m23.2.1\u001B[0m\u001B[39;49m -> \u001B[0m\u001B[32;49m24.3.1\u001B[0m\r\n",
      "\u001B[1m[\u001B[0m\u001B[34;49mnotice\u001B[0m\u001B[1;39;49m]\u001B[0m\u001B[39;49m To update, run: \u001B[0m\u001B[32;49mpip install --upgrade pip\u001B[0m\r\n"
     ]
    }
   ],
   "execution_count": 1
  },
  {
   "cell_type": "markdown",
   "metadata": {
    "id": "B-BrsrgYzTER"
   },
   "source": "## Step 1- Download the POI and Road-Network Data for San Francisco Area\n"
  },
  {
   "cell_type": "markdown",
   "metadata": {
    "id": "IsgQtTonj05-"
   },
   "source": [
    "#### Download the Road Network data\n",
    "\n",
    "We download the road network of San Fransisco using the osmnx package."
   ]
  },
  {
   "cell_type": "code",
   "metadata": {
    "colab": {
     "base_uri": "https://localhost:8080/",
     "height": 844
    },
    "id": "sQ9JiorFzSh5",
    "outputId": "f794806f-0949-4b15-e517-273050b6f88d",
    "ExecuteTime": {
     "end_time": "2024-10-31T03:06:49.864718Z",
     "start_time": "2024-10-31T03:06:47.628542Z"
    }
   },
   "source": [
    "import osmnx as ox\n",
    "import geopandas as gpd\n",
    "import os\n",
    "from shapely.geometry import Point, LineString\n",
    "\n",
    "# Download data if not already stored\n",
    "if not os.path.exists('sf-road_network.graphml'):\n",
    "\n",
    "  # Specify area as San Francisco, CA\n",
    "  G = ox.graph_from_place('San Francisco, California, USA', network_type='drive', simplify=True) # set to simplify=True for a less nodes\n",
    "\n",
    "  # Plot the road network\n",
    "  ox.plot_graph(G)\n",
    "\n",
    "  # Save the graph\n",
    "  ox.save_graph_shapefile(G)\n",
    "  ox.save_graphml(G, filepath='sf-road_network.graphml')\n",
    "\n",
    "else:\n",
    "\n",
    "  # Load data from the file\n",
    "  G = ox.load_graphml('sf-road_network.graphml')\n",
    "\n",
    "# Extract the nodes and edges from the graph\n",
    "nodes_gdf, edges_gdf = ox.graph_to_gdfs(G)\n",
    "\n",
    "print(\"Nodes columns:\", nodes_gdf.columns)\n",
    "print(\"Edges columns:\", edges_gdf.columns)"
   ],
   "outputs": [
    {
     "name": "stdout",
     "output_type": "stream",
     "text": [
      "Nodes columns: Index(['y', 'x', 'street_count', 'ref', 'highway', 'geometry'], dtype='object')\n",
      "Edges columns: Index(['osmid', 'oneway', 'lanes', 'ref', 'name', 'highway', 'maxspeed',\n",
      "       'reversed', 'length', 'bridge', 'tunnel', 'geometry', 'access',\n",
      "       'junction', 'width'],\n",
      "      dtype='object')\n"
     ]
    }
   ],
   "execution_count": 2
  },
  {
   "cell_type": "markdown",
   "metadata": {
    "id": "Bf6TqoTjj8Rt"
   },
   "source": [
    "#### Download the POI data for San Francisco Area\n",
    "\n",
    "Here, we make sure that the POIs are within the road network bounding box."
   ]
  },
  {
   "cell_type": "code",
   "metadata": {
    "colab": {
     "base_uri": "https://localhost:8080/"
    },
    "id": "4LaNA64ilB2q",
    "outputId": "3628dba3-ba5b-42ef-d425-5e9356a959c6",
    "ExecuteTime": {
     "end_time": "2024-10-31T03:06:51.387958Z",
     "start_time": "2024-10-31T03:06:50.120834Z"
    }
   },
   "source": [
    "from shapely.geometry import box\n",
    "\n",
    "# Chek if data is already stored\n",
    "if not os.path.exists('sf-attractions.geojson'):\n",
    "\n",
    "  tags = {'tourism': True, 'amenity': True}\n",
    "\n",
    "  # Load tourist attractions in San Francisco\n",
    "  attractions = ox.features.features_from_place('San Francisco, California, USA', tags)\n",
    "\n",
    "  # Plot the tourist attractions\n",
    "  attractions = attractions[['name', 'geometry']]\n",
    "  attractions_gdf = gpd.GeoDataFrame(attractions, geometry='geometry')\n",
    "\n",
    "  # Get the bounding box of the road network\n",
    "  minx, miny, maxx, maxy = edges_gdf.total_bounds\n",
    "\n",
    "  # Create a bounding box polygon\n",
    "  bounding_box = box(minx, miny, maxx, maxy)\n",
    "\n",
    "  # Convert the bounding box to a GeoDataFrame\n",
    "  bounding_box_gdf = gpd.GeoDataFrame(gpd.GeoSeries(bounding_box), columns=['geometry'], crs=edges_gdf.crs)\n",
    "\n",
    "  # Ensure the POIs and road network have the same Coordinate Reference System\n",
    "  if attractions_gdf.crs != edges_gdf.crs:\n",
    "      attractions_gdf = attractions_gdf.to_crs(edges_gdf.crs)\n",
    "\n",
    "  # Filter the POIs to keep only those within the bounding box\n",
    "  attractions_in_bbox = attractions_gdf[attractions_gdf.within(bounding_box)]\n",
    "\n",
    "  # Drop non-Point geometries\n",
    "  attractions_in_bbox = attractions_in_bbox[attractions_in_bbox.geom_type == 'Point']\n",
    "\n",
    "  # Add x and y coordinates as seperate columns\n",
    "  attractions_in_bbox['x'] = attractions_in_bbox.geometry.x\n",
    "  attractions_in_bbox['y'] = attractions_in_bbox.geometry.y\n",
    "\n",
    "  # Reset index\n",
    "  attractions_in_bbox = attractions_in_bbox.reset_index(drop=True)\n",
    "\n",
    "  # Save attractions\n",
    "  attractions_in_bbox.to_file('sf-attractions.geojson', driver='GeoJSON')\n",
    "\n",
    "\n",
    "# Load data from the file\n",
    "attractions_gdf = gpd.read_file('sf-attractions.geojson')\n",
    "\n",
    "# Reset index\n",
    "attractions_gdf = attractions_gdf.reset_index(drop=True)\n",
    "\n",
    "# Plot dataframe\n",
    "print(\"Column names in dataframe:\", attractions_gdf.columns)\n",
    "print(\"Number of POIs:\", len(attractions_gdf))"
   ],
   "outputs": [
    {
     "name": "stdout",
     "output_type": "stream",
     "text": [
      "Column names in dataframe: Index(['name', 'x', 'y', 'geometry'], dtype='object')\n",
      "Number of POIs: 14179\n"
     ]
    }
   ],
   "execution_count": 3
  },
  {
   "cell_type": "markdown",
   "metadata": {
    "id": "UPEPKxhhzjff"
   },
   "source": [
    "## Part 2- Index Creation\n",
    "\n",
    "  1.   An R-tree index that stores the POI data\n",
    "\n",
    "  2.   A network Storage Scheme consisting of the following 3 components\n",
    "    \n",
    "    i. Adjacency component, to represent the network connectivity\n",
    "    \n",
    "    ii. The poly-line component, to store the the poly-line representation of each segment in the network\n",
    "    \n",
    "    iii. An R-tree index that indexes the polylines.\n",
    "\n",
    "\n"
   ]
  },
  {
   "cell_type": "code",
   "metadata": {
    "id": "lBHz9Mopz7w-",
    "colab": {
     "base_uri": "https://localhost:8080/"
    },
    "outputId": "df0ffa14-634f-4ea4-8a58-38bc56a1f9ac",
    "ExecuteTime": {
     "end_time": "2024-10-31T03:06:52.383594Z",
     "start_time": "2024-10-31T03:06:51.395118Z"
    }
   },
   "source": [
    "from rtree import index\n",
    "# For accurate distance calculations, we project geometris to EPSG:32610 coordinate system.\n",
    "attractions_gdf = attractions_gdf.to_crs(epsg=32610)\n",
    "\n",
    "# Build R-tree index for POIs\n",
    "poi_rtree = index.Index()\n",
    "for idx, geom in attractions_gdf['geometry'].items():\n",
    "    poi_rtree.insert(idx, geom.bounds)"
   ],
   "outputs": [],
   "execution_count": 4
  },
  {
   "cell_type": "code",
   "source": [
    "class NodeAdjacency:\n",
    "    def __init__(self, neighbor_id, distance, mbr, polyline_ptr):\n",
    "        self.NBptr = neighbor_id\n",
    "        self.distance = distance\n",
    "        self.MBR = mbr\n",
    "        self.PLptr = polyline_ptr\n",
    "    \n",
    "    def __repr__(self):\n",
    "        return f\"Neighbor ID: {self.NBptr}, Distance: {self.distance}, MBR: {self.MBR}, Polyline pointer: {self.PLptr}\""
   ],
   "metadata": {
    "id": "4e6j4fP9q35s",
    "ExecuteTime": {
     "end_time": "2024-10-31T03:06:52.437275Z",
     "start_time": "2024-10-31T03:06:52.433456Z"
    }
   },
   "outputs": [],
   "execution_count": 5
  },
  {
   "cell_type": "code",
   "source": [
    "class Node:\n",
    "    def __init__(self, node_id):\n",
    "        self.node_id = node_id\n",
    "        self.ajd_list = []\n",
    "        \n",
    "    def AdjacencyEntry(self, neighbor_id, distance, mbr, polyline_ptr):\n",
    "        entry = NodeAdjacency(neighbor_id, distance, mbr, polyline_ptr)\n",
    "        self.ajd_list.append(entry)\n",
    "    \n",
    "    def __repr__(self):\n",
    "        return f\"Node ID: {self.node_id}, Adjacency List: {self.ajd_list}\"\n",
    "        "
   ],
   "metadata": {
    "id": "XHAkoPMNq3FL",
    "ExecuteTime": {
     "end_time": "2024-10-31T03:06:52.481616Z",
     "start_time": "2024-10-31T03:06:52.478213Z"
    }
   },
   "outputs": [],
   "execution_count": 6
  },
  {
   "cell_type": "code",
   "source": [
    "class PolylineComponent:\n",
    "    def __init__(self, polyline_id, geometry):\n",
    "        self.polyline_id = polyline_id\n",
    "        self.geometry = geometry\n",
    "    \n",
    "    def __repr__(self):\n",
    "        return f\"PolylineComponent(id={self.polyline_id}, geometry={self.geometry})\""
   ],
   "metadata": {
    "id": "Q07cHjgYy03x",
    "ExecuteTime": {
     "end_time": "2024-10-31T03:06:52.526551Z",
     "start_time": "2024-10-31T03:06:52.523371Z"
    }
   },
   "outputs": [],
   "execution_count": 7
  },
  {
   "cell_type": "code",
   "source": [
    "polyline_storage = {}\n",
    "nodes = {}\n",
    "# Project edges and nodes using the same projection as POI\n",
    "edges_gdf = edges_gdf.to_crs(epsg=32610)\n",
    "nodes_gdf = nodes_gdf.to_crs(epsg=32610)\n",
    "\n",
    "# Iterate over each edge in the road network\n",
    "for idx, edge in edges_gdf.iterrows():\n",
    "    # Create a PolylineComponent for each edge\n",
    "    polyline_id = idx\n",
    "    geometry = edge['geometry']\n",
    "    polyline = PolylineComponent(polyline_id=polyline_id, geometry=geometry)\n",
    "    polyline_storage[polyline_id] = polyline\n",
    "    \n",
    "    # Get the start and end nodes of the edge\n",
    "    start_node = idx[0]\n",
    "    end_node = idx[1]\n",
    "\n",
    "    # Calculate the distance and MBR\n",
    "    distance = geometry.length\n",
    "    MBR = geometry.bounds\n",
    "\n",
    "    # Create adjacency entries for both start and end nodes\n",
    "    if start_node not in nodes:\n",
    "        nodes[start_node] = Node(node_id=start_node)\n",
    "    if end_node not in nodes:\n",
    "        nodes[end_node] = Node(node_id=end_node)\n",
    "\n",
    "    # Add adjacency entry for start node\n",
    "    nodes[start_node].ajd_list.append(NodeAdjacency(\n",
    "        neighbor_id=end_node,\n",
    "        distance=distance,\n",
    "        mbr=MBR,\n",
    "        polyline_ptr=polyline\n",
    "    ))\n",
    "\n",
    "    # Add adjacency entry for end node (if the graph is undirected)\n",
    "    nodes[end_node].ajd_list.append(NodeAdjacency(\n",
    "        neighbor_id=start_node,\n",
    "        distance=distance,\n",
    "        mbr=MBR,\n",
    "        polyline_ptr=polyline\n",
    "    ))"
   ],
   "metadata": {
    "id": "F7ctTJTe3qK_",
    "ExecuteTime": {
     "end_time": "2024-10-31T03:06:55.226838Z",
     "start_time": "2024-10-31T03:06:52.567767Z"
    }
   },
   "outputs": [],
   "execution_count": 8
  },
  {
   "cell_type": "code",
   "source": [
    "polyline_rtree = index.Index()\n",
    "edgeMBRDict = {}\n",
    "counter = 0\n",
    "\n",
    "for edge_id, edge in edges_gdf.iterrows():\n",
    "    idx = counter\n",
    "    counter += 1\n",
    "    mbr = edge.geometry.bounds\n",
    "    \n",
    "    # Store r-tree ID's \n",
    "    edgeMBRDict[idx] = edge_id\n",
    "    \n",
    "    polyline_rtree.insert(idx, mbr)"
   ],
   "metadata": {
    "id": "E9gi2YLNzosg",
    "ExecuteTime": {
     "end_time": "2024-10-31T03:06:59.315336Z",
     "start_time": "2024-10-31T03:06:55.277288Z"
    }
   },
   "outputs": [],
   "execution_count": 9
  },
  {
   "cell_type": "markdown",
   "metadata": {
    "id": "ak7UglWBsmju"
   },
   "source": [
    "## 3- Primitive Functions\n",
    "\n",
    "In this part, we will implement the primitive functions that are needed to implement the query processing algorithms, as described in the originial VLDB paper. "
   ]
  },
  {
   "cell_type": "markdown",
   "metadata": {
    "id": "YIta2OgPtMtp"
   },
   "source": [
    "### 3.1- Primitive SNDB Operations"
   ]
  },
  {
   "metadata": {},
   "cell_type": "markdown",
   "source": [
    "1. **`check_entity(seg, p, dT)`**: Check if POI `p` lies on segment `seg`, or within a threshold distance `dT`.\n",
    "2. **`find_segment(p)`**: Outputs the road segment that covers point `p` by performing a point location query on the network R-tree. If multiple segments cover `p`, the first one found is returned.\n",
    "3. **`find_entities(seg)`**: Returns all POIs that lie in the MBR of `seg`.\n",
    "4. **`compute_ND(p1, p2)`**: Returns the road network distance from POI `p1` to `p2`."
   ]
  },
  {
   "cell_type": "code",
   "metadata": {
    "id": "pUF3o0rdvH9k",
    "ExecuteTime": {
     "end_time": "2024-10-31T03:06:59.391917Z",
     "start_time": "2024-10-31T03:06:59.380076Z"
    }
   },
   "source": [
    "import networkx as nx\n",
    "import pandas as pd\n",
    "def check_entity(seg, p, dT=10):\n",
    "    \"\"\"\n",
    "    Check if POI `p` lies on or near segment `seg` within a threshold distance dT.\n",
    "\n",
    "    Parameters:\n",
    "    - seg (Series): A geometry object (LINESTRING) showing the road segment.\n",
    "    - p (Point): A Point object representing the POI.\n",
    "    - dT (float): Distance threshold in meters (defaults to 10 meters).\n",
    "\n",
    "    Returns:\n",
    "    - bool: True if p lies on or near seg, False otherwise.\n",
    "    \"\"\"\n",
    "    \n",
    "    point = p.geometry\n",
    "    segment = seg.geometry\n",
    "    distance = point.distance(segment)\n",
    "    \n",
    "    return distance <= dT\n",
    "\n",
    "\n",
    "def find_segment(p, polyline_idx, roads_gdf, dT=10):\n",
    "    \"\"\"\n",
    "    Output the road segment that covers point `p` by performing a point location query on the network R-tree.\n",
    "    If multiple segments cover `p`, return the first one.\n",
    "\n",
    "    Parameters:\n",
    "    - p (Point): A Shapely Point object representing the query POI.\n",
    "    - polyline_idx (rtree.index.Index): R-tree index of road network segments.\n",
    "    - roads_gdf (GeoDataFrame): GeoDataFrame of road network edges (segments).\n",
    "    - dT (float): Distance threshold in meters (defaults to 10 meters).\n",
    "\n",
    "    Returns:\n",
    "    - Series: A GeoPandas Series representing the segment that covers or is closest to p.\n",
    "    \"\"\"\n",
    "    \n",
    "    # Extract Point and apply buffer (Conditional on whether p is a POI or query)\n",
    "    if hasattr(p, 'geometry'):\n",
    "        pointGeom = p.geometry\n",
    "    else:\n",
    "        pointGeom = p\n",
    "\n",
    "    buffer_size = dT\n",
    "    candidate_segments = []\n",
    "\n",
    "    # Expand buffer until at least one candidate segment is found\n",
    "    while not candidate_segments:\n",
    "        buffer = pointGeom.buffer(buffer_size)\n",
    "        candidate_indices = list(polyline_idx.intersection(buffer.bounds))\n",
    "        \n",
    "        for idx in candidate_indices:\n",
    "            segment_index = edgeMBRDict[idx]\n",
    "            candidate_segments.append(roads_gdf.loc[segment_index])\n",
    "        \n",
    "        # Double the buffer size if no candidates are found; This will be used for finding the closest segment\n",
    "        if not candidate_segments:\n",
    "            buffer_size *= 2\n",
    "\n",
    "    # Check if any segment is within the original distance threshold\n",
    "    for segment in candidate_segments:\n",
    "        segGeom = segment.geometry\n",
    "        if pointGeom.distance(segGeom) <= dT:\n",
    "            return segment\n",
    "    \n",
    "    # If no segment is found within the threshold, find the closest segment\n",
    "    min_distance = float('inf')\n",
    "    closest_segment = None\n",
    "    \n",
    "    for segment in candidate_segments:\n",
    "        segGeom = segment.geometry\n",
    "        distance = pointGeom.distance(segGeom)\n",
    "        if distance < min_distance:\n",
    "            min_distance = distance\n",
    "            closest_segment = segment\n",
    "    \n",
    "    return closest_segment\n",
    "\n",
    "def find_entities(seg, poi_idx, pois_gdf, dT=10):\n",
    "    \"\"\"\n",
    "    Returns all POIs that lie on or near the segment seg.\n",
    "\n",
    "    Parameters:\n",
    "    - seg (Series): A LINESTRING geometry data type representing the road segment.\n",
    "    - poi_idx (rtree.index.Index): R-tree index of POIs.\n",
    "    - pois_gdf (GeoDataFrame): GeoDataFrame of POIs.\n",
    "    - dT (float): Distance threshold in meters (default is 10 meters).\n",
    "\n",
    "    Returns:\n",
    "    - GeoDataFrame: POIs that lie on or near seg.\n",
    "    \"\"\"\n",
    "    \n",
    "    # Query the R-tree index for candidate POIs within the bounding box of the segment\n",
    "    seg_bounds = seg.geometry.bounds\n",
    "    \n",
    "    # Ensure proper extraction of segment bounds\n",
    "    if isinstance(seg_bounds, pd.DataFrame):\n",
    "        minx, miny, maxx, maxy = seg_bounds.iloc[0].tolist()\n",
    "    else:\n",
    "        minx, miny, maxx, maxy = map(float, seg_bounds)\n",
    "    \n",
    "    # Query the R-tree index for candidate POIs within the bounding box of the segment\n",
    "    candidate_indices = list(poi_idx.intersection((minx - dT, miny - dT, maxx + dT, maxy + dT)))\n",
    "    candidatePOIS = pois_gdf.iloc[candidate_indices]\n",
    "\n",
    "    outputPOIS = []\n",
    "    for idx, POI in zip(candidate_indices, candidatePOIS.itertuples(index=False)):\n",
    "        if check_entity(seg, POI, dT):\n",
    "            poi_dict = POI._asdict()  \n",
    "            poi_dict['poi_index'] = idx  \n",
    "            outputPOIS.append(poi_dict)\n",
    "    \n",
    "    return gpd.GeoDataFrame(outputPOIS, columns=list(pois_gdf.columns) + ['poi_index'])\n",
    "\n",
    "\n",
    "def compute_ND(p1, p2, G, roads_gdf, polyline_idx):\n",
    "    \"\"\"\n",
    "    Compute the shortest network distance between two points p1 and p2.\n",
    "\n",
    "    Parameters:\n",
    "    - p1 (Point): A Shapely Point object representing the starting point.\n",
    "    - p2 (Point): A Shapely Point object representing the destination point.\n",
    "    - G: Graph representing the road network.\n",
    "    - roads_gdf (GeoDataFrame): GeoDataFrame of road network edges (segments).\n",
    "    - polyline_idx (rtree.index.Index): R-tree index of road network segments.\n",
    "\n",
    "    Returns:\n",
    "    - float: Network distance between p1 and p2 in meters.\n",
    "    \"\"\"\n",
    "    \n",
    "    # Ensure checks for p1 and p2, if they are query points or POIs with a .geometry attribute\n",
    "    if hasattr(p1, 'geometry'):\n",
    "        p1Geom = p1.geometry\n",
    "    else:\n",
    "        p1Geom = p1\n",
    "\n",
    "    if hasattr(p2, 'geometry'):\n",
    "        p2Geom = p2.geometry\n",
    "    else:\n",
    "        p2Geom = p2\n",
    "        \n",
    "        \n",
    "    # Find the nearest segments to p1 and p2, define start and end nodes of segments\n",
    "    seg1 = find_segment(p1, polyline_idx, roads_gdf)\n",
    "    seg2 = find_segment(p2, polyline_idx, roads_gdf)\n",
    "    \n",
    "    node1Start = nodes_gdf[nodes_gdf.index == seg1.name[0]].geometry\n",
    "    node1End = nodes_gdf[nodes_gdf.index == seg1.name[1]].geometry\n",
    "    node2Start = nodes_gdf[nodes_gdf.index == seg2.name[0]].geometry\n",
    "    node2End = nodes_gdf[nodes_gdf.index == seg2.name[1]].geometry\n",
    "    \n",
    "    # Find nearest node for p1 and p2\n",
    "    if node1Start.distance(p1Geom).iloc[0] < node1End.distance(p1Geom).iloc[0]:\n",
    "        p1_nearest_node = nodes_gdf[nodes_gdf.index == seg1.name[0]]\n",
    "    else:\n",
    "        p1_nearest_node = nodes_gdf[nodes_gdf.index == seg1.name[1]]\n",
    "    \n",
    "    if node2Start.distance(p2Geom).iloc[0] < node2End.distance(p2Geom).iloc[0]:\n",
    "        p2_nearest_node = nodes_gdf[nodes_gdf.index == seg2.name[0]]\n",
    "    else:\n",
    "        p2_nearest_node = nodes_gdf[nodes_gdf.index == seg2.name[1]]\n",
    "    \n",
    "    startNode = p1_nearest_node.index[0]\n",
    "    endNode = p2_nearest_node.index[0]\n",
    "    \n",
    "    shortest_path_length = nx.shortest_path_length(G, source=startNode, \n",
    "                                                   target=endNode, weight='length')\n",
    "    \n",
    "    # Add distance of initial jump to segment\n",
    "    p1EuclideanStart = p1Geom.distance(p1_nearest_node.geometry).iloc[0]\n",
    "    p2EuclideanStart = p2Geom.distance(p2_nearest_node.geometry).iloc[0]\n",
    "    \n",
    "    ND = shortest_path_length + p1EuclideanStart + p2EuclideanStart\n",
    "    return ND"
   ],
   "outputs": [],
   "execution_count": 10
  },
  {
   "cell_type": "markdown",
   "metadata": {
    "id": "QbebU0ru0Aib"
   },
   "source": [
    "## 4- KNN Search Algorithms\n",
    "In this part, we implement the IER and INE algorithms for efficient KNN search in spatial network databases."
   ]
  },
  {
   "cell_type": "markdown",
   "metadata": {
    "id": "38Q2EQTx0V1B"
   },
   "source": [
    "### 4.1- Incremental Euclidean Restriction (IER) algorithm\n",
    "Here, we implement the IER algorithm to find the `k` nearest neighbors to query point `q` based on network distance, using Euclidean distance to prune the search space.\n",
    "\n",
    "The algorithm works as follows:\n",
    "  1. Retrieve the `k` nearest POI neighbors {$p_1,\\cdots,p_k$} to `q` based on Euclidean distance using the POI R-tree index.\n",
    "  2. For each of these candidate neighbors, compute the network distance <code>dN(q,p<sub>i</sub>)</code> using the `compute_ND` function.\n",
    "  3. Sort the candidates in the ascending order based on their network distance to the query.\n",
    "  4. Set a threshold <code>d<sub>Emax</sub></code> to the network distance of `k`-th candidate.\n",
    "  5. Iterate through these steps until no candidate refinement is possible:\n",
    "    - Fetch the next nearest neighbor `p` based on the Euclidean distance to `q`.\n",
    "    - If its Euclidean distance `dE(q, p)` is greater than <code>d<sub>Emax</sub></code>, terminate the loop.\n",
    "    - Otherwise, compute the network distance `dN(q, p)`.\n",
    "    - if `dN(q, p)` is smaller than <code>dN(q,p<sub>k</sub>)</code>, insert `p` in the candidate set and remove <code>p<sub>k</sub></code>. Update <code>d<sub>Emax</sub></code> accordingly.\n",
    "\n",
    "\n"
   ]
  },
  {
   "cell_type": "markdown",
   "source": "In order to implement IER, we need to first implement two additional helper functions, to fetch the Euclidean nearest neighbors. ",
   "metadata": {
    "id": "YGXJP2cWhFYw"
   }
  },
  {
   "cell_type": "code",
   "source": [
    "def euclidean_nn(q, k, poi_idx, pois_gdf):\n",
    "    \"\"\"\n",
    "    Retrieve the k nearest neighbors to the query point q based on Euclidean distance.\n",
    "\n",
    "    Parameters:\n",
    "    - q (Point): The query point.\n",
    "    - k (int): Number of nearest neighbors to retrieve.\n",
    "    - poi_idx (rtree.index.Index): R-tree spatial index of the POIs.\n",
    "    - pois_gdf (GeoDataFrame): GeoDataFrame containing the POIs.\n",
    "\n",
    "    Returns:\n",
    "    - GeoDataFrame: DataFrame containing the k nearest POIs sorted by Euclidean distance.\n",
    "    \"\"\"\n",
    "    \n",
    "    # Initialize buffer size in meters\n",
    "    buffer_size = 5\n",
    "    candidate_indices = list(poi_idx.intersection(q.buffer(buffer_size).bounds))\n",
    "    \n",
    "    # If not enough candidates are found, expand the search area\n",
    "    while len(candidate_indices) < k + 1:\n",
    "        buffer_size *= 2\n",
    "        candidate_indices = list(poi_idx.intersection(q.buffer(buffer_size).bounds))\n",
    "    \n",
    "    # Filter the candidate POIs from the GeoDataFrame\n",
    "    candidate_pois = []\n",
    "    for idx in candidate_indices:\n",
    "        candidate_pois.append(pois_gdf.loc[idx])\n",
    "        \n",
    "    # Calculate the Euclidean distance from the query point to each candidate POI\n",
    "    outputList = []\n",
    "    for POI in candidate_pois:\n",
    "        euclidean_distance = q.distance(POI.geometry)\n",
    "        outputList.append((POI, euclidean_distance))\n",
    "    \n",
    "    # Sort and output\n",
    "    outputList.sort(key=lambda x: x[1])\n",
    "    outputList = outputList[:k]\n",
    "    \n",
    "    output = gpd.GeoDataFrame(\n",
    "        [poi for poi, _ in outputList],\n",
    "        columns=pois_gdf.columns\n",
    "    )\n",
    "    \n",
    "    return output\n",
    "\n",
    "def next_euclidean_nn(q, poi_idx, pois_gdf, exclusion_list):\n",
    "    \"\"\"\n",
    "    Retrieve the next nearest neighbor to the query point q based on Euclidean distance, excluding already considered POIs.\n",
    "\n",
    "    Parameters:\n",
    "    - q (Point): The query point.\n",
    "    - poi_idx (rtree.index.Index): R-tree spatial index of the POIs.\n",
    "    - pois_gdf (GeoDataFrame): GeoDataFrame containing the POIs.\n",
    "    - exclusion_list (set): Set of indices of POIs already considered.\n",
    "\n",
    "    Returns:\n",
    "    - Series: The next nearest POI.\n",
    "    - float: The Euclidean distance to the POI.\n",
    "    \"\"\"\n",
    "    buffer_size = 10\n",
    "    candidate_indices = list(poi_idx.intersection(q.buffer(buffer_size).bounds))\n",
    "    \n",
    "    # If not enough candidates are found, expand the search area\n",
    "    while len(candidate_indices) < len(exclusion_list) + 1:\n",
    "        buffer_size *= 2\n",
    "        candidate_indices = list(poi_idx.intersection(q.buffer(buffer_size).bounds))\n",
    "    \n",
    "    # Filter the candidate POIs from the GeoDataFrame, excluding those in the exclusion list\n",
    "    candidate_pois = []\n",
    "    for idx in candidate_indices:\n",
    "        if idx not in exclusion_list:\n",
    "            candidate_pois.append((idx, pois_gdf.loc[idx]))\n",
    "    \n",
    "    # Calculate the Euclidean distance from the query point to each candidate POI\n",
    "    outputList = []\n",
    "    for _, POI in candidate_pois:\n",
    "        euclidean_distance = q.distance(POI.geometry)\n",
    "        outputList.append((POI, euclidean_distance))\n",
    "    \n",
    "    # Sort and extract first item and Euclidean distance\n",
    "    outputList.sort(key=lambda x: x[1])\n",
    "    outputPOI = outputList[0]\n",
    "    \n",
    "    return outputPOI[0], outputPOI[1] "
   ],
   "metadata": {
    "id": "PiMuSA2WhPP9",
    "ExecuteTime": {
     "end_time": "2024-10-31T03:06:59.458970Z",
     "start_time": "2024-10-31T03:06:59.451013Z"
    }
   },
   "outputs": [],
   "execution_count": 11
  },
  {
   "cell_type": "code",
   "metadata": {
    "id": "4IVuwU9s0IP5",
    "ExecuteTime": {
     "end_time": "2024-10-31T03:06:59.526355Z",
     "start_time": "2024-10-31T03:06:59.520541Z"
    }
   },
   "source": [
    "def IER(q, k, pois_gdf, poi_idx, roads_gdf, polyline_idx, G):\n",
    "    \"\"\"\n",
    "    Incremental Euclidean Restriction (IER) algorithm to find k nearest neighbors based on network distance.\n",
    "\n",
    "    Parameters:\n",
    "    - q (Point): The query point.\n",
    "    - k (int): Number of nearest neighbors to retrieve.\n",
    "    - pois_gdf (GeoDataFrame): GeoDataFrame containing the POIs.\n",
    "    - poi_idx (rtree.index.Index): R-tree spatial index of the POIs.\n",
    "    - roads_gdf (GeoDataFrame): GeoDataFrame of road network edges (segments).\n",
    "    - polyline_idx (rtree.index.Index): R-tree spatial index of the road segments.\n",
    "    - G (networkx.Graph): The road network graph.\n",
    "\n",
    "    Returns:\n",
    "    - knn_list (list): List of k nearest POIs with their network distances.\n",
    "    \"\"\"\n",
    "    \n",
    "    # Retrieve k-nearest POI using Euclidean distance, compute network distance and sort by ND\n",
    "    euclideanNearestNeighbors = []\n",
    "    for i in range(k):\n",
    "        euclideanNearestNeighbors.append(euclidean_nn(q, k, poi_idx, pois_gdf).iloc[i])\n",
    "    \n",
    "    sortedCandidates = []\n",
    "    for candidate in euclideanNearestNeighbors:\n",
    "        network_distance = compute_ND(candidate, q, G, roads_gdf, polyline_idx)\n",
    "        sortedCandidates.append((candidate, network_distance))\n",
    "    \n",
    "    sortedCandidates.sort(key=lambda x: x[1])\n",
    "    \n",
    "    # Define exclusion List\n",
    "    exclusionList = set([candidate.name for candidate, _ in sortedCandidates])\n",
    "    \n",
    "    # Set Inital DEmax\n",
    "    DEmax = sortedCandidates[-1][1]\n",
    "    \n",
    "    # Loop to retrieve next neighbors and update the candidate list\n",
    "    while True:\n",
    "        nextNeighbor, nextNeighborED = next_euclidean_nn(q, poi_idx, pois_gdf, exclusionList)\n",
    "        \n",
    "        if nextNeighborED > DEmax:\n",
    "            break\n",
    "        \n",
    "        # If new neighbor ED < DEmax, calculate ND, append into candidatesList, sort, and remove the furthest entry\n",
    "        nextNeighborDistance = compute_ND(nextNeighbor, q, G, roads_gdf, polyline_idx)\n",
    "        sortedCandidates.append((nextNeighbor, nextNeighborDistance))\n",
    "        sortedCandidates.sort(key=lambda x: x[1])\n",
    "        sortedCandidates = sortedCandidates[:k]  # Keep only the k nearest candidates\n",
    "        \n",
    "        # Update DEmax and exclusion list\n",
    "        DEmax = sortedCandidates[-1][1]\n",
    "        exclusionList.add(nextNeighbor.name)\n",
    "        \n",
    "    # Write output List (POI idx, Distance)\n",
    "    outputList = []\n",
    "    for candidate in sortedCandidates:\n",
    "        outputList.append((candidate[0].name, candidate[1]))\n",
    "    \n",
    "    return outputList"
   ],
   "outputs": [],
   "execution_count": 12
  },
  {
   "cell_type": "markdown",
   "source": [
    "### 4.2- Incremental Network Expansion (INE) algorithm\n",
    "\n",
    "In this step, we implement the INE algorithm to find the `k` nearest neighbors to query point `q` based on the network distance, by incrementally expanding the network from `q`.\n",
    "\n",
    "Algorithm:\n",
    "  1. Find the road segment covering or closest to query POI `q` using the earlier `find_segment` function.\n",
    "  2. Retrieve all POIs that lie on this segment using the `find_entities` function.\n",
    "  3. Initialize the candidate set {$p_1, ..., p_k$} with these POIs, sorted in ascending order based on their network distance.\n",
    "  4. If fewer than `k` POIs are found, set the threshold <code>d<sub>Nmax</sub></code> to infinity. Otherwise, set it to the network distance of the `k`-th candidate.\n",
    "  5. Initialize a priority queue `Q` with the road segment nodes covering `q` and their cumulative network distance from `q`.\n",
    "  6. While `Q` is not empty and the smallest cumulative distance in `Q` is less than <code>d<sub>Nmax</sub></code> repeat:\n",
    "    - Dequeue the node `n` with the smallest cumulative network distance.\n",
    "    - For each non-visited adjacent node `n'` of n:\n",
    "      - Compute the cumulative network distance <code>d<sub>N</sub>(q, n')</code>.\n",
    "      - Retrieve all the POIs on the road segment between `n` and `n'` using the `find_entities` function.\n",
    "      - Add the newly found POIs to the candidate set {$p_1, ..., p_k$}.\n",
    "      - Update the candidate set so that it contains the `k` POIs with smallest network distance, sorted in ascending order.\n",
    "      - Update <code>d<sub>Nmax</sub> = d<sub>N</sub>(q,p<sub>k</sub>)</code>\n",
    "      - Enqueue `n'` into `Q` with its cumulative network distance <code>d<sub>N</sub>(q, n')</code>.\n",
    "      - Mark `n'` as visited.\n",
    "  7. Return the resulting top `k` candidate set.\n"
   ],
   "metadata": {
    "id": "Cnvp60j6nN1A"
   }
  },
  {
   "cell_type": "code",
   "metadata": {
    "id": "apEIpaFA0j8p",
    "ExecuteTime": {
     "end_time": "2024-10-31T03:06:59.596863Z",
     "start_time": "2024-10-31T03:06:59.587420Z"
    }
   },
   "source": [
    "from heapq import heappop, heappush\n",
    "\n",
    "def INE(q, k, pois_gdf, poi_idx, roads_gdf, polyline_idx, G):\n",
    "    \"\"\"\n",
    "    Incremental Network Expansion (INE) algorithm to find k nearest neighbors based on network distance.\n",
    "\n",
    "    Parameters:\n",
    "    - q (Point): The query point.\n",
    "    - k (int): Number of nearest neighbors to retrieve.\n",
    "    - pois_gdf (GeoDataFrame): GeoDataFrame containing the POIs.\n",
    "    - poi_idx (rtree.index.Index): R-tree spatial index of the POIs.\n",
    "    - roads_gdf (GeoDataFrame): GeoDataFrame of road network segments.\n",
    "    - polyline_idx (rtree.index.Index): R-tree spatial index of the road segments.\n",
    "    - G (networkx.Graph): The road network graph.\n",
    "\n",
    "    Returns:\n",
    "    - knn_list (list): List of k nearest POIs with their network distances.\n",
    "    \"\"\"\n",
    "    nearestSegment = find_segment(q, polyline_idx, roads_gdf)\n",
    "    distanceToNS = q.distance(nearestSegment.geometry)\n",
    "    initalPOIS = find_entities(nearestSegment, poi_idx, pois_gdf, dT=50) # Increase dT to 50 for increased result accuracy\n",
    "    \n",
    "    candidateSet = []\n",
    "    unique_pois = set()\n",
    "    for i in range(len(initalPOIS)):\n",
    "        poi_id = initalPOIS.iloc[i].name\n",
    "        ND = compute_ND(initalPOIS.iloc[i], q, G, roads_gdf, polyline_idx)\n",
    "        candidateSet.append((initalPOIS.iloc[i], ND))\n",
    "        unique_pois.add(poi_id)\n",
    "        \n",
    "    candidateSet.sort(key=lambda x: x[1])\n",
    "    \n",
    "    if len(candidateSet) < k:\n",
    "        Dnmax = float('inf')\n",
    "    else:\n",
    "        Dnmax = candidateSet[-1][1]\n",
    "    \n",
    "    # Initialize Q\n",
    "    visited_nodes = set()\n",
    "    segment_queue = [(distanceToNS, nearestSegment)]\n",
    "\n",
    "    while len(candidateSet) < k and segment_queue:\n",
    "        # Expand the next segment\n",
    "        current_distance, current_segment = heappop(segment_queue)\n",
    "\n",
    "        n1, n2 = current_segment.name[0], current_segment.name[1]\n",
    "        \n",
    "        if n1 in visited_nodes and n2 in visited_nodes:\n",
    "            continue\n",
    "        \n",
    "        visited_nodes.add(n1)\n",
    "        visited_nodes.add(n2)\n",
    "        \n",
    "        for node in (n1, n2):\n",
    "            for neighbor in G.neighbors(node):\n",
    "                if neighbor not in visited_nodes:\n",
    "                    # Access the length from roads_gdf\n",
    "                    edge_data = roads_gdf.loc[(node, neighbor, 0)]\n",
    "                    cumulative_distance = current_distance + edge_data['length']\n",
    "                    \n",
    "                    if cumulative_distance < Dnmax:\n",
    "                        heappush(segment_queue, (cumulative_distance, roads_gdf.loc[(node, neighbor, 0)]))\n",
    "                        new_pois = find_entities(edge_data, poi_idx, pois_gdf, dT=50) # Increase dT to 50 for increased result accuracy\n",
    "                        \n",
    "                        for poi in new_pois.itertuples():\n",
    "                            poi_id = poi.poi_index\n",
    "                            if poi_id not in unique_pois:\n",
    "                                ND = compute_ND(poi, q, G, roads_gdf, polyline_idx)\n",
    "                                candidateSet.append((poi, ND))\n",
    "                                unique_pois.add(poi_id)\n",
    "                                \n",
    "                        candidateSet.sort(key=lambda x: x[1])\n",
    "                        if len(candidateSet) == k:\n",
    "                            Dnmax = candidateSet[-1][1]\n",
    "        \n",
    "                        \n",
    "    \n",
    "    candidateSet.sort(key=lambda x: x[1])   \n",
    "    \n",
    "    # Ensure no duplicates in output\n",
    "    outputList = []\n",
    "    seen = set()   \n",
    "    for candidate in candidateSet:\n",
    "        if candidate[0].poi_index not in seen:\n",
    "            outputList.append((candidate[0].poi_index, candidate[1]))\n",
    "            seen.add(candidate[0].poi_index)\n",
    "    \n",
    "    outputList = outputList[:k]\n",
    "        \n",
    "    return outputList"
   ],
   "outputs": [],
   "execution_count": 13
  },
  {
   "cell_type": "markdown",
   "metadata": {
    "id": "S8k2YHhy07Fs"
   },
   "source": [
    "## 6- Analysis and Comparisons\n",
    "\n",
    "In this part, we compare and analyse the different NN methods. To do this, we compare the runtimes of the two methods for the following values of `k` = [1, 5, 10, 15, 20].\n"
   ]
  },
  {
   "metadata": {
    "ExecuteTime": {
     "end_time": "2024-10-31T03:07:16.834631Z",
     "start_time": "2024-10-31T03:06:59.658158Z"
    }
   },
   "cell_type": "code",
   "source": [
    "import pandas as pd\n",
    "import time\n",
    "\n",
    "# Sample queries\n",
    "sample_queries = [\n",
    "    Point(550074, 4180658),\n",
    "    Point(548845, 4179294),\n",
    "    Point(550000, 4179920)\n",
    "]\n",
    "\n",
    "k_values = [1, 5, 10, 15, 20]\n",
    "\n",
    "# Initialize a list to store results\n",
    "results = []\n",
    "\n",
    "# Test function\n",
    "def test_functions():\n",
    "    for i, query in enumerate(sample_queries):\n",
    "        for k in k_values:\n",
    "            start_time = time.time()\n",
    "            ine_result = INE(query, k, attractions_gdf, poi_rtree, edges_gdf, polyline_rtree, G)\n",
    "            ine_time = time.time() - start_time\n",
    "\n",
    "            start_time = time.time()\n",
    "            ier_result = IER(query, k, attractions_gdf, poi_rtree, edges_gdf, polyline_rtree, G)\n",
    "            ier_time = time.time() - start_time\n",
    "            \n",
    "            results.append({\n",
    "                'Query': f'Sample Query {i+1}',\n",
    "                'k': k,\n",
    "                'INE (Neighbor, Distance)': [(neighbor[0], round(neighbor[1], 2)) for neighbor in ine_result], # Rounding distances for better readability\n",
    "                'IER (Neighbor, Distance)': [(neighbor[0], round(neighbor[1], 2)) for neighbor in ier_result], # Rounding distances for better readability\n",
    "                'INE Time': ine_time,\n",
    "                'IER Time': ier_time\n",
    "            })\n",
    "            \n",
    "test_functions()\n",
    "results_df = pd.DataFrame(results)\n",
    "\n",
    "# Display a DataFrame for each value of k\n",
    "for k in k_values:\n",
    "    print(f\"Results for k = {k}\")\n",
    "    k_group = results_df[results_df['k'] == k][['Query', 'INE (Neighbor, Distance)', 'IER (Neighbor, Distance)', 'INE Time', 'IER Time']]\n",
    "    display(k_group)\n",
    "    print(\"\\n\")"
   ],
   "outputs": [
    {
     "name": "stdout",
     "output_type": "stream",
     "text": [
      "Results for k = 1\n"
     ]
    },
    {
     "data": {
      "text/plain": [
       "             Query INE (Neighbor, Distance) IER (Neighbor, Distance)  \\\n",
       "0   Sample Query 1          [(1448, 79.28)]          [(1448, 79.28)]   \n",
       "5   Sample Query 2         [(8270, 155.31)]         [(8270, 155.31)]   \n",
       "10  Sample Query 3           [(779, 77.94)]           [(779, 77.94)]   \n",
       "\n",
       "    INE Time  IER Time  \n",
       "0   0.176203  0.130171  \n",
       "5   0.009100  0.008752  \n",
       "10  0.071640  0.048397  "
      ],
      "text/html": [
       "<div>\n",
       "<style scoped>\n",
       "    .dataframe tbody tr th:only-of-type {\n",
       "        vertical-align: middle;\n",
       "    }\n",
       "\n",
       "    .dataframe tbody tr th {\n",
       "        vertical-align: top;\n",
       "    }\n",
       "\n",
       "    .dataframe thead th {\n",
       "        text-align: right;\n",
       "    }\n",
       "</style>\n",
       "<table border=\"1\" class=\"dataframe\">\n",
       "  <thead>\n",
       "    <tr style=\"text-align: right;\">\n",
       "      <th></th>\n",
       "      <th>Query</th>\n",
       "      <th>INE (Neighbor, Distance)</th>\n",
       "      <th>IER (Neighbor, Distance)</th>\n",
       "      <th>INE Time</th>\n",
       "      <th>IER Time</th>\n",
       "    </tr>\n",
       "  </thead>\n",
       "  <tbody>\n",
       "    <tr>\n",
       "      <th>0</th>\n",
       "      <td>Sample Query 1</td>\n",
       "      <td>[(1448, 79.28)]</td>\n",
       "      <td>[(1448, 79.28)]</td>\n",
       "      <td>0.176203</td>\n",
       "      <td>0.130171</td>\n",
       "    </tr>\n",
       "    <tr>\n",
       "      <th>5</th>\n",
       "      <td>Sample Query 2</td>\n",
       "      <td>[(8270, 155.31)]</td>\n",
       "      <td>[(8270, 155.31)]</td>\n",
       "      <td>0.009100</td>\n",
       "      <td>0.008752</td>\n",
       "    </tr>\n",
       "    <tr>\n",
       "      <th>10</th>\n",
       "      <td>Sample Query 3</td>\n",
       "      <td>[(779, 77.94)]</td>\n",
       "      <td>[(779, 77.94)]</td>\n",
       "      <td>0.071640</td>\n",
       "      <td>0.048397</td>\n",
       "    </tr>\n",
       "  </tbody>\n",
       "</table>\n",
       "</div>"
      ]
     },
     "metadata": {},
     "output_type": "display_data"
    },
    {
     "name": "stdout",
     "output_type": "stream",
     "text": [
      "\n",
      "\n",
      "Results for k = 5\n"
     ]
    },
    {
     "data": {
      "text/plain": [
       "             Query                           INE (Neighbor, Distance)  \\\n",
       "1   Sample Query 1  [(1448, 79.28), (5006, 81.98), (2, 95.27), (86...   \n",
       "6   Sample Query 2  [(8270, 155.31), (5911, 325.92), (1970, 945.5)...   \n",
       "11  Sample Query 3  [(779, 77.94), (1163, 82.4), (6555, 242.02), (...   \n",
       "\n",
       "                             IER (Neighbor, Distance)  INE Time  IER Time  \n",
       "1   [(1448, 79.28), (5006, 81.98), (2, 95.27), (86...  0.171960  0.186269  \n",
       "6   [(8270, 155.31), (5911, 325.92), (2777, 385.05...  0.045344  0.248905  \n",
       "11  [(779, 77.94), (1163, 82.4), (6555, 242.02), (...  0.070920  0.256049  "
      ],
      "text/html": [
       "<div>\n",
       "<style scoped>\n",
       "    .dataframe tbody tr th:only-of-type {\n",
       "        vertical-align: middle;\n",
       "    }\n",
       "\n",
       "    .dataframe tbody tr th {\n",
       "        vertical-align: top;\n",
       "    }\n",
       "\n",
       "    .dataframe thead th {\n",
       "        text-align: right;\n",
       "    }\n",
       "</style>\n",
       "<table border=\"1\" class=\"dataframe\">\n",
       "  <thead>\n",
       "    <tr style=\"text-align: right;\">\n",
       "      <th></th>\n",
       "      <th>Query</th>\n",
       "      <th>INE (Neighbor, Distance)</th>\n",
       "      <th>IER (Neighbor, Distance)</th>\n",
       "      <th>INE Time</th>\n",
       "      <th>IER Time</th>\n",
       "    </tr>\n",
       "  </thead>\n",
       "  <tbody>\n",
       "    <tr>\n",
       "      <th>1</th>\n",
       "      <td>Sample Query 1</td>\n",
       "      <td>[(1448, 79.28), (5006, 81.98), (2, 95.27), (86...</td>\n",
       "      <td>[(1448, 79.28), (5006, 81.98), (2, 95.27), (86...</td>\n",
       "      <td>0.171960</td>\n",
       "      <td>0.186269</td>\n",
       "    </tr>\n",
       "    <tr>\n",
       "      <th>6</th>\n",
       "      <td>Sample Query 2</td>\n",
       "      <td>[(8270, 155.31), (5911, 325.92), (1970, 945.5)...</td>\n",
       "      <td>[(8270, 155.31), (5911, 325.92), (2777, 385.05...</td>\n",
       "      <td>0.045344</td>\n",
       "      <td>0.248905</td>\n",
       "    </tr>\n",
       "    <tr>\n",
       "      <th>11</th>\n",
       "      <td>Sample Query 3</td>\n",
       "      <td>[(779, 77.94), (1163, 82.4), (6555, 242.02), (...</td>\n",
       "      <td>[(779, 77.94), (1163, 82.4), (6555, 242.02), (...</td>\n",
       "      <td>0.070920</td>\n",
       "      <td>0.256049</td>\n",
       "    </tr>\n",
       "  </tbody>\n",
       "</table>\n",
       "</div>"
      ]
     },
     "metadata": {},
     "output_type": "display_data"
    },
    {
     "name": "stdout",
     "output_type": "stream",
     "text": [
      "\n",
      "\n",
      "Results for k = 10\n"
     ]
    },
    {
     "data": {
      "text/plain": [
       "             Query                           INE (Neighbor, Distance)  \\\n",
       "2   Sample Query 1  [(1448, 79.28), (5006, 81.98), (2, 95.27), (86...   \n",
       "7   Sample Query 2  [(8270, 155.31), (5911, 325.92), (2777, 385.05...   \n",
       "12  Sample Query 3  [(779, 77.94), (1163, 82.4), (6555, 242.02), (...   \n",
       "\n",
       "                             IER (Neighbor, Distance)  INE Time  IER Time  \n",
       "2   [(1448, 79.28), (5006, 81.98), (2, 95.27), (86...  0.174660  0.251317  \n",
       "7   [(8270, 155.31), (5911, 325.92), (2777, 385.05...  0.162722  0.351759  \n",
       "12  [(779, 77.94), (1163, 82.4), (6555, 242.02), (...  0.068551  0.397661  "
      ],
      "text/html": [
       "<div>\n",
       "<style scoped>\n",
       "    .dataframe tbody tr th:only-of-type {\n",
       "        vertical-align: middle;\n",
       "    }\n",
       "\n",
       "    .dataframe tbody tr th {\n",
       "        vertical-align: top;\n",
       "    }\n",
       "\n",
       "    .dataframe thead th {\n",
       "        text-align: right;\n",
       "    }\n",
       "</style>\n",
       "<table border=\"1\" class=\"dataframe\">\n",
       "  <thead>\n",
       "    <tr style=\"text-align: right;\">\n",
       "      <th></th>\n",
       "      <th>Query</th>\n",
       "      <th>INE (Neighbor, Distance)</th>\n",
       "      <th>IER (Neighbor, Distance)</th>\n",
       "      <th>INE Time</th>\n",
       "      <th>IER Time</th>\n",
       "    </tr>\n",
       "  </thead>\n",
       "  <tbody>\n",
       "    <tr>\n",
       "      <th>2</th>\n",
       "      <td>Sample Query 1</td>\n",
       "      <td>[(1448, 79.28), (5006, 81.98), (2, 95.27), (86...</td>\n",
       "      <td>[(1448, 79.28), (5006, 81.98), (2, 95.27), (86...</td>\n",
       "      <td>0.174660</td>\n",
       "      <td>0.251317</td>\n",
       "    </tr>\n",
       "    <tr>\n",
       "      <th>7</th>\n",
       "      <td>Sample Query 2</td>\n",
       "      <td>[(8270, 155.31), (5911, 325.92), (2777, 385.05...</td>\n",
       "      <td>[(8270, 155.31), (5911, 325.92), (2777, 385.05...</td>\n",
       "      <td>0.162722</td>\n",
       "      <td>0.351759</td>\n",
       "    </tr>\n",
       "    <tr>\n",
       "      <th>12</th>\n",
       "      <td>Sample Query 3</td>\n",
       "      <td>[(779, 77.94), (1163, 82.4), (6555, 242.02), (...</td>\n",
       "      <td>[(779, 77.94), (1163, 82.4), (6555, 242.02), (...</td>\n",
       "      <td>0.068551</td>\n",
       "      <td>0.397661</td>\n",
       "    </tr>\n",
       "  </tbody>\n",
       "</table>\n",
       "</div>"
      ]
     },
     "metadata": {},
     "output_type": "display_data"
    },
    {
     "name": "stdout",
     "output_type": "stream",
     "text": [
      "\n",
      "\n",
      "Results for k = 15\n"
     ]
    },
    {
     "data": {
      "text/plain": [
       "             Query                           INE (Neighbor, Distance)  \\\n",
       "3   Sample Query 1  [(1448, 79.28), (5006, 81.98), (2, 95.27), (86...   \n",
       "8   Sample Query 2  [(8270, 155.31), (5911, 325.92), (2777, 385.05...   \n",
       "13  Sample Query 3  [(779, 77.94), (1163, 82.4), (6555, 242.02), (...   \n",
       "\n",
       "                             IER (Neighbor, Distance)  INE Time  IER Time  \n",
       "3   [(1448, 79.28), (5006, 81.98), (2, 95.27), (86...  0.172103  0.400667  \n",
       "8   [(8270, 155.31), (5911, 325.92), (2777, 385.05...  0.411944  4.863689  \n",
       "13  [(779, 77.94), (1163, 82.4), (6555, 242.02), (...  0.165941  0.462915  "
      ],
      "text/html": [
       "<div>\n",
       "<style scoped>\n",
       "    .dataframe tbody tr th:only-of-type {\n",
       "        vertical-align: middle;\n",
       "    }\n",
       "\n",
       "    .dataframe tbody tr th {\n",
       "        vertical-align: top;\n",
       "    }\n",
       "\n",
       "    .dataframe thead th {\n",
       "        text-align: right;\n",
       "    }\n",
       "</style>\n",
       "<table border=\"1\" class=\"dataframe\">\n",
       "  <thead>\n",
       "    <tr style=\"text-align: right;\">\n",
       "      <th></th>\n",
       "      <th>Query</th>\n",
       "      <th>INE (Neighbor, Distance)</th>\n",
       "      <th>IER (Neighbor, Distance)</th>\n",
       "      <th>INE Time</th>\n",
       "      <th>IER Time</th>\n",
       "    </tr>\n",
       "  </thead>\n",
       "  <tbody>\n",
       "    <tr>\n",
       "      <th>3</th>\n",
       "      <td>Sample Query 1</td>\n",
       "      <td>[(1448, 79.28), (5006, 81.98), (2, 95.27), (86...</td>\n",
       "      <td>[(1448, 79.28), (5006, 81.98), (2, 95.27), (86...</td>\n",
       "      <td>0.172103</td>\n",
       "      <td>0.400667</td>\n",
       "    </tr>\n",
       "    <tr>\n",
       "      <th>8</th>\n",
       "      <td>Sample Query 2</td>\n",
       "      <td>[(8270, 155.31), (5911, 325.92), (2777, 385.05...</td>\n",
       "      <td>[(8270, 155.31), (5911, 325.92), (2777, 385.05...</td>\n",
       "      <td>0.411944</td>\n",
       "      <td>4.863689</td>\n",
       "    </tr>\n",
       "    <tr>\n",
       "      <th>13</th>\n",
       "      <td>Sample Query 3</td>\n",
       "      <td>[(779, 77.94), (1163, 82.4), (6555, 242.02), (...</td>\n",
       "      <td>[(779, 77.94), (1163, 82.4), (6555, 242.02), (...</td>\n",
       "      <td>0.165941</td>\n",
       "      <td>0.462915</td>\n",
       "    </tr>\n",
       "  </tbody>\n",
       "</table>\n",
       "</div>"
      ]
     },
     "metadata": {},
     "output_type": "display_data"
    },
    {
     "name": "stdout",
     "output_type": "stream",
     "text": [
      "\n",
      "\n",
      "Results for k = 20\n"
     ]
    },
    {
     "data": {
      "text/plain": [
       "             Query                           INE (Neighbor, Distance)  \\\n",
       "4   Sample Query 1  [(1448, 79.28), (5006, 81.98), (2, 95.27), (86...   \n",
       "9   Sample Query 2  [(8270, 155.31), (5911, 325.92), (2777, 385.05...   \n",
       "14  Sample Query 3  [(779, 77.94), (1163, 82.4), (6555, 242.02), (...   \n",
       "\n",
       "                             IER (Neighbor, Distance)  INE Time  IER Time  \n",
       "4   [(1448, 79.28), (5006, 81.98), (2, 95.27), (86...  0.169178  0.423319  \n",
       "9   [(8270, 155.31), (5911, 325.92), (2777, 385.05...  0.772925  5.663411  \n",
       "14  [(779, 77.94), (1163, 82.4), (6555, 242.02), (...  0.168787  0.571773  "
      ],
      "text/html": [
       "<div>\n",
       "<style scoped>\n",
       "    .dataframe tbody tr th:only-of-type {\n",
       "        vertical-align: middle;\n",
       "    }\n",
       "\n",
       "    .dataframe tbody tr th {\n",
       "        vertical-align: top;\n",
       "    }\n",
       "\n",
       "    .dataframe thead th {\n",
       "        text-align: right;\n",
       "    }\n",
       "</style>\n",
       "<table border=\"1\" class=\"dataframe\">\n",
       "  <thead>\n",
       "    <tr style=\"text-align: right;\">\n",
       "      <th></th>\n",
       "      <th>Query</th>\n",
       "      <th>INE (Neighbor, Distance)</th>\n",
       "      <th>IER (Neighbor, Distance)</th>\n",
       "      <th>INE Time</th>\n",
       "      <th>IER Time</th>\n",
       "    </tr>\n",
       "  </thead>\n",
       "  <tbody>\n",
       "    <tr>\n",
       "      <th>4</th>\n",
       "      <td>Sample Query 1</td>\n",
       "      <td>[(1448, 79.28), (5006, 81.98), (2, 95.27), (86...</td>\n",
       "      <td>[(1448, 79.28), (5006, 81.98), (2, 95.27), (86...</td>\n",
       "      <td>0.169178</td>\n",
       "      <td>0.423319</td>\n",
       "    </tr>\n",
       "    <tr>\n",
       "      <th>9</th>\n",
       "      <td>Sample Query 2</td>\n",
       "      <td>[(8270, 155.31), (5911, 325.92), (2777, 385.05...</td>\n",
       "      <td>[(8270, 155.31), (5911, 325.92), (2777, 385.05...</td>\n",
       "      <td>0.772925</td>\n",
       "      <td>5.663411</td>\n",
       "    </tr>\n",
       "    <tr>\n",
       "      <th>14</th>\n",
       "      <td>Sample Query 3</td>\n",
       "      <td>[(779, 77.94), (1163, 82.4), (6555, 242.02), (...</td>\n",
       "      <td>[(779, 77.94), (1163, 82.4), (6555, 242.02), (...</td>\n",
       "      <td>0.168787</td>\n",
       "      <td>0.571773</td>\n",
       "    </tr>\n",
       "  </tbody>\n",
       "</table>\n",
       "</div>"
      ]
     },
     "metadata": {},
     "output_type": "display_data"
    },
    {
     "name": "stdout",
     "output_type": "stream",
     "text": [
      "\n",
      "\n"
     ]
    }
   ],
   "execution_count": 14
  },
  {
   "metadata": {
    "ExecuteTime": {
     "end_time": "2024-10-31T03:07:17.717598Z",
     "start_time": "2024-10-31T03:07:17.135520Z"
    }
   },
   "cell_type": "code",
   "source": [
    "import matplotlib.pyplot as plt\n",
    "import numpy as np\n",
    "\n",
    "# Plot query times\n",
    "for i, query in enumerate(sample_queries):\n",
    "    query_label = f'Sample Query {i+1}'\n",
    "    query_results = results_df[results_df['Query'] == query_label]\n",
    "    \n",
    "    ine_times = query_results['INE Time'].values\n",
    "    ier_times = query_results['IER Time'].values\n",
    "    \n",
    "    x = np.arange(len(k_values))  \n",
    "    width = 0.3 \n",
    "\n",
    "    fig, ax = plt.subplots(figsize=(10, 6))\n",
    "    bars1 = ax.bar(x - width/2, ine_times, width, label='INE Time', color='red')\n",
    "    bars2 = ax.bar(x + width/2, ier_times, width, label='IER Time', color='blue')\n",
    "\n",
    "    ax.set_xlabel('k Values')\n",
    "    ax.set_ylabel('Time (s)')\n",
    "    ax.set_title(f'INE vs IER Time for {query_label}')\n",
    "    ax.set_xticks(x)\n",
    "    ax.set_xticklabels(k_values)\n",
    "    ax.legend()\n",
    "\n",
    "    ax.grid(True, linestyle='-', alpha=0.7)\n",
    "\n",
    "    plt.show()"
   ],
   "outputs": [
    {
     "data": {
      "text/plain": [
       "<Figure size 1000x600 with 1 Axes>"
      ],
      "image/png": "[encoded data removed]"
     },
     "metadata": {},
     "output_type": "display_data"
    },
    {
     "data": {
      "text/plain": [
       "<Figure size 1000x600 with 1 Axes>"
      ],
      "image/png": "[encoded data removed]"
     },
     "metadata": {},
     "output_type": "display_data"
    },
    {
     "data": {
      "text/plain": [
       "<Figure size 1000x600 with 1 Axes>"
      ],
      "image/png": "[encoded data removed]"
     },
     "metadata": {},
     "output_type": "display_data"
    }
   ],
   "execution_count": 15
  },
  {
   "cell_type": "markdown",
   "metadata": {
    "id": "Md9NItYt1F4c"
   },
   "source": "## 7- Observations\n"
  },
  {
   "metadata": {},
   "cell_type": "markdown",
   "source": [
    "In the analysis section, three different queries were tested against IER and INE. The results of which are displayed in tables to verify that both functions are providing the same results for the queries' neighbors.\n",
    "\n",
    "Following this are histograms representing running times for IER and INE for each query at different values of k. For the most part, INE performs better than IER, and this difference grows as values of k increase. For a k value of 1 in queries 1 and 3, IER performs better; The reasoning could be due to Euclidean distance being a good estimate for network distance in these cases. Such a scenario could be when the neighbor POIs fall on the same segment. \n",
    "\n",
    "The trends found in this assignment align with those of the paper; INE is a faster algorithm for querying nearest neighbors in a network.\n",
    "\n",
    "Some challenges were faced when using the initial buffer dT = 10 in the INE algorithm, this would lead to some POIs not being identified on the segment, leading to incorrect results. Increasing this threshold yielded better results, however, it is a parameter that needs fine-tuning dependent on information of the underlying network.\n",
    "\n"
   ]
  }
 ],
 "metadata": {
  "colab": {
   "provenance": []
  },
  "kernelspec": {
   "display_name": "Python 3 (ipykernel)",
   "name": "python3",
   "language": "python"
  },
  "language_info": {
   "name": "python"
  }
 },
 "nbformat": 4,
 "nbformat_minor": 0
}
